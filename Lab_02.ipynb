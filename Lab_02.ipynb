{
  "nbformat": 4,
  "nbformat_minor": 0,
  "metadata": {
    "colab": {
      "provenance": [],
      "include_colab_link": true
    },
    "kernelspec": {
      "name": "python3",
      "display_name": "Python 3"
    },
    "language_info": {
      "name": "python"
    }
  },
  "cells": [
    {
      "cell_type": "markdown",
      "metadata": {
        "id": "view-in-github",
        "colab_type": "text"
      },
      "source": [
        "<a href=\"https://colab.research.google.com/github/priyanshu1044/ML_Labs/blob/main/Lab_2.ipynb\" target=\"_parent\"><img src=\"https://colab.research.google.com/assets/colab-badge.svg\" alt=\"Open In Colab\"/></a>"
      ]
    },
    {
      "cell_type": "code",
      "execution_count": null,
      "metadata": {
        "id": "iAcu5OtGZC1V",
        "colab": {
          "base_uri": "https://localhost:8080/"
        },
        "outputId": "e056a618-3653-4566-ed9c-07ed5b6474b0"
      },
      "outputs": [
        {
          "output_type": "stream",
          "name": "stdout",
          "text": [
            "/content/drive/MyDrive/lab2.txt\n",
            "r\n",
            "False\n",
            "Hello\n",
            "True\n"
          ]
        }
      ],
      "source": [
        "file = open(\"/content/drive/MyDrive/lab2.txt\",\"r\")\n",
        "text = file.read(5)\n",
        "print(file.name)\n",
        "print(file.mode)\n",
        "print(file.closed)\n",
        "\n",
        "print(text)\n",
        "file.close()\n",
        "\n",
        "print(file.closed)\n"
      ]
    },
    {
      "cell_type": "code",
      "source": [
        "file = open(\"/content/drive/MyDrive/lab2.txt\",\"r\")\n",
        "text = file.read()\n",
        "print(text)\n",
        "file.close()\n",
        "file = open(\"/content/drive/MyDrive/lab2.txt\",\"w\")\n",
        "file.write(\"Hello, I am Priyanshu\")\n",
        "file.close()\n",
        "file = open(\"/content/drive/MyDrive/lab2.txt\",\"r\")\n",
        "text = file.read()\n",
        "print(text)"
      ],
      "metadata": {
        "id": "5sr-pR_Kc1Ay",
        "colab": {
          "base_uri": "https://localhost:8080/"
        },
        "outputId": "de2032ad-4d03-4564-cf16-ab53b68fef6d"
      },
      "execution_count": null,
      "outputs": [
        {
          "output_type": "stream",
          "name": "stdout",
          "text": [
            "Hello, I am Priyanshu\n",
            "Hello, I am Priyanshu\n"
          ]
        }
      ]
    },
    {
      "cell_type": "code",
      "source": [
        "file = open(\"/content/drive/MyDrive/lab2.txt\",\"a\")\n",
        "file.write(\"\\nThis is testing for appending content to a file\")\n",
        "file.close()\n",
        "file = open(\"/content/drive/MyDrive/lab2.txt\",\"r\")\n",
        "text = file.read()\n",
        "print(text)\n",
        "file.close()"
      ],
      "metadata": {
        "id": "Y4DGKTr5fAZy",
        "colab": {
          "base_uri": "https://localhost:8080/"
        },
        "outputId": "ae804e56-064c-4874-cf31-c1e35cda4884"
      },
      "execution_count": null,
      "outputs": [
        {
          "output_type": "stream",
          "name": "stdout",
          "text": [
            "Hello\n",
            "This is testing for appending content to a file\n"
          ]
        }
      ]
    },
    {
      "cell_type": "code",
      "source": [
        "file = open(\"/content/drive/MyDrive/lab2.txt\",\"rb\")\n",
        "text = file.read(10)\n",
        "print(text)\n",
        "pos = file.tell()\n",
        "print(\"Position of pointer: \",pos)\n",
        "pos = file.seek(10,1)\n",
        "print(\"Position of pointer: \",pos)\n",
        "text = file.read(10)\n",
        "print(text)"
      ],
      "metadata": {
        "id": "RFPe6eLNc6AK",
        "colab": {
          "base_uri": "https://localhost:8080/"
        },
        "outputId": "5cc164fb-4d02-4a49-e1e9-50edf2347405"
      },
      "execution_count": null,
      "outputs": [
        {
          "output_type": "stream",
          "name": "stdout",
          "text": [
            "b'Hello\\nThis'\n",
            "Position of pointer:  10\n",
            "Position of pointer:  20\n",
            "b'g for appe'\n"
          ]
        }
      ]
    },
    {
      "cell_type": "code",
      "source": [
        "#1st Write a program to read a text file and find unique words with their occurrences and display tabular form the analysis.\n",
        "\n",
        "file = open(\"/content/drive/MyDrive/lab2.txt\",\"r\")\n",
        "txt = file.read()\n",
        "\n",
        "txt_splitted = txt.split()\n",
        "\n",
        "ans = []\n",
        "for i in txt_splitted:\n",
        "  if i not in ans:\n",
        "    ans.append(i)\n",
        "print(\"Word\\tNum_Of_Occurence\\n\")\n",
        "for i in ans:\n",
        "  print(i,\"\\t\",txt_splitted.count(i),\"\\n\")"
      ],
      "metadata": {
        "id": "sifMGWXjj7nw",
        "colab": {
          "base_uri": "https://localhost:8080/"
        },
        "outputId": "a26b2a9a-711a-4f0e-84b3-fbe052a5e80f"
      },
      "execution_count": null,
      "outputs": [
        {
          "output_type": "stream",
          "name": "stdout",
          "text": [
            "Word\tNum_Of_Occurence\n",
            "\n",
            "Hello, \t 1 \n",
            "\n",
            "I \t 1 \n",
            "\n",
            "am \t 1 \n",
            "\n",
            "Priyanshu \t 1 \n",
            "\n"
          ]
        }
      ]
    },
    {
      "cell_type": "code",
      "source": [
        "#2nd Write a program which reads a sample C Program file as input, stores the content to the another file without any single line \n",
        "#comments within.\n",
        "\n",
        "file1 = open(\"/content/drive/MyDrive/moj.c\",\"r\")\n",
        "file2 = open(\"/content/drive/MyDrive/moj_final.c\",\"w\")\n",
        "\n",
        "txt = file1.readlines()\n",
        "\n",
        "for i in txt:\n",
        "  temp = i.replace(\" \",\"\")\n",
        "  if temp[0] != '/':\n",
        "    file2.write(i)\n",
        "\n",
        "file2.close()\n",
        "file2 = open(\"/content/drive/MyDrive/moj_final.c\",\"r\")\n",
        "\n",
        "file1.seek(0,0)\n",
        "initial_program  = file1.read()\n",
        "program = file2.read()\n",
        "print(\"Program With Comment:\\n\\n\",initial_program)\n",
        "print(\"\\nProgram without comment:\\n\\n\",program)\n",
        "file2.close()\n",
        "file1.close()\n",
        "\n",
        "\n"
      ],
      "metadata": {
        "id": "LpXqTEKvq8ve",
        "colab": {
          "base_uri": "https://localhost:8080/"
        },
        "outputId": "9e4d72ac-46db-42c2-b39c-2861f1a92ab6"
      },
      "execution_count": null,
      "outputs": [
        {
          "output_type": "stream",
          "name": "stdout",
          "text": [
            "Program With Comment:\n",
            "\n",
            " #include <stdio.h>\n",
            "int main() {\n",
            "   // printf() displays the string inside quotation\n",
            "   printf(\"PRIYANSHU IS A PEACEFULL SOUL\");\n",
            "   //priyanshu patel \n",
            "   //cool\n",
            "   return 0;\n",
            "}\n",
            "\n",
            "\n",
            "Program without comment:\n",
            "\n",
            " #include <stdio.h>\n",
            "int main() {\n",
            "   printf(\"PRIYANSHU IS A PEACEFULL SOUL\");\n",
            "   return 0;\n",
            "}\n",
            "\n"
          ]
        }
      ]
    },
    {
      "cell_type": "code",
      "source": [
        "#3rd Store students' records to a file named students.csv. Know that record contains following information <student_id, name, age, percentage>.\n",
        "#'.csv' format contains comma-separated values of record line by line.\n",
        "\n",
        "import csv\n",
        "fo=open(\"/content/drive/MyDrive/students.csv\",\"w+\")\n",
        "fields = ['student_id', 'name', 'age', 'percentage']\n",
        "rows = [ ['1','Priyanshu', '18', '95'], \n",
        "         ['2','Meet', '19', '85'], \n",
        "         ['3','Tilak', '19', '80'], \n",
        "         ['4','akash', '19', '81'], \n",
        "         ['5','Dev', '18', '70'], \n",
        "         ['6','Yash', '19', '88']] \n",
        "writer=csv.writer(fo)\n",
        "writer.writerow(fields)\n",
        "writer.writerows(rows)\n",
        "fo.seek(0)\n",
        "w=fo.read()\n",
        "print(w)\n",
        "fo.close()\n"
      ],
      "metadata": {
        "id": "LWooqeMd4edx",
        "colab": {
          "base_uri": "https://localhost:8080/"
        },
        "outputId": "d284b7cc-b874-4aab-c424-fd506d6b3dbf"
      },
      "execution_count": null,
      "outputs": [
        {
          "output_type": "stream",
          "name": "stdout",
          "text": [
            "student_id,name,age,percentage\n",
            "1,Priyanshu,18,95\n",
            "2,Meet,19,85\n",
            "3,Tilak,19,80\n",
            "4,akash,19,81\n",
            "5,Dev,18,70\n",
            "6,Yash,19,88\n",
            "\n"
          ]
        }
      ]
    },
    {
      "cell_type": "code",
      "source": [
        "#4th Read file students.csv and display tabular form students records. Also, count and at the end display \n",
        "# total how many students are recorded in the file (count).\n",
        "\n",
        "fo=open(\"/content/drive/MyDrive/students.csv\",\"r\")\n",
        "for aline in fo:\n",
        "    values = aline.split(',')\n",
        "    print(values[0],',',values[1],',',values[2],',',values[3]) \n",
        "\n",
        "fo.close()"
      ],
      "metadata": {
        "id": "CLXRpkEL5EXR",
        "colab": {
          "base_uri": "https://localhost:8080/"
        },
        "outputId": "419ae93f-8e30-4a6c-89d8-347c6fd866dd"
      },
      "execution_count": null,
      "outputs": [
        {
          "output_type": "stream",
          "name": "stdout",
          "text": [
            "student_id , name , age , percentage\n",
            "\n",
            "1 , Priyanshu , 18 , 95\n",
            "\n",
            "2 , Meet , 19 , 85\n",
            "\n",
            "3 , Tilak , 19 , 80\n",
            "\n",
            "4 , akash , 19 , 81\n",
            "\n",
            "5 , Dev , 18 , 70\n",
            "\n",
            "6 , Yash , 19 , 88\n",
            "\n"
          ]
        }
      ]
    },
    {
      "cell_type": "code",
      "source": [
        "#5th\n",
        "\n",
        "import sys\n",
        "try:\n",
        "  f = open('/content/drive/MyDrive/student.txt')\n",
        "  s = f.readline()\n",
        "  i = int(s.strip())\n",
        "  print(i)\n",
        "except OSError as err:\n",
        "  print(\"OS error: {0}\".format(err))\n",
        "except ValueError:\n",
        "  print(\"Could not convert data to an integer.\")\n",
        "except:\n",
        "  print(\"Unexpected error:\", sys.exc_info()[0])\n",
        "  raise\n",
        "\n",
        "  #O/P:\n",
        "  # (i) without having myfile.txt in current location.\n",
        "    # OS error: [Errno 2] No such file or directory: '/content/drive/MyDrive/Python_lab_2/myfile.txt'\n",
        "  # (ii) Create datafile using command 'echo \"1 2 3\" > myfile.txt'\n",
        "    # Could not convert data to an integer.\n",
        "  # (iii) Overwrite file content 'echo \"123\" > myfile.txt'"
      ],
      "metadata": {
        "id": "vBE9dPS6-df9",
        "colab": {
          "base_uri": "https://localhost:8080/"
        },
        "outputId": "daf4836c-1829-416b-94a6-f7fd54bcefd1"
      },
      "execution_count": null,
      "outputs": [
        {
          "output_type": "stream",
          "name": "stdout",
          "text": [
            "Could not convert data to an integer.\n"
          ]
        }
      ]
    }
  ]
}