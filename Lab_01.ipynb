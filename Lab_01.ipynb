{
  "nbformat": 4,
  "nbformat_minor": 0,
  "metadata": {
    "colab": {
      "provenance": [],
      "authorship_tag": "ABX9TyPFKg1wKHh0jUkHemcBH+oO",
      "include_colab_link": true
    },
    "kernelspec": {
      "name": "python3",
      "display_name": "Python 3"
    },
    "language_info": {
      "name": "python"
    }
  },
  "cells": [
    {
      "cell_type": "markdown",
      "metadata": {
        "id": "view-in-github",
        "colab_type": "text"
      },
      "source": [
        "<a href=\"https://colab.research.google.com/github/priyanshu1044/ML_Labs/blob/main/Lab_1.ipynb\" target=\"_parent\"><img src=\"https://colab.research.google.com/assets/colab-badge.svg\" alt=\"Open In Colab\"/></a>"
      ]
    },
    {
      "cell_type": "markdown",
      "metadata": {
        "id": "5CVGz9IfCeWh"
      },
      "source": [
        "[1].Write a program which accepts a number from user and display that number if and only if it\n",
        "is positive value."
      ]
    },
    {
      "cell_type": "code",
      "metadata": {
        "id": "Yppor8iYCm_g"
      },
      "source": [
        "marks = int(input(\"Enter a number: \"))\n",
        "if marks > 40:\n",
        "   print(\"Congratulation!!! You pass this exam successfully\")\n",
        "else:\n",
        "   print(\"Sorry brother!!! better luck next time\")\n",
        "   "
      ],
      "execution_count": null,
      "outputs": []
    },
    {
      "cell_type": "markdown",
      "metadata": {
        "id": "byIvX0SACj0P"
      },
      "source": [
        "[2].Write a program which accepts average marks of student and if average is greater than 40\n",
        "then it will display a message “Congratulation!!! You pass this exam successfully” else it\n",
        "will display “Sorry!!! Better luck next time”.\n",
        "\n"
      ]
    },
    {
      "cell_type": "code",
      "metadata": {
        "id": "1rD5zNTPCfQ_"
      },
      "source": [
        "num = int(input(\"Enter a number: \"))\n",
        "if num > 0:\n",
        "   print(\"Positive number\")\n",
        "elif num == 0:\n",
        "   print(\"Zero\")\n",
        "else:\n",
        "   print(\"Negative number\")"
      ],
      "execution_count": null,
      "outputs": []
    },
    {
      "cell_type": "markdown",
      "metadata": {
        "id": "DZAoq07zCzSY"
      },
      "source": [
        "[3].Write a program which accepts marks of five subject and based on average of those marks it will display appropriate grade.\n",
        "\n"
      ]
    },
    {
      "cell_type": "code",
      "metadata": {
        "id": "mg1h_9MCC28_"
      },
      "source": [
        "sub1 = int(input(\"Enter a number: \"))\n",
        "sub2 = int(input(\"Enter a number: \"))\n",
        "sub3 = int(input(\"Enter a number: \"))\n",
        "sub4 = int(input(\"Enter a number: \"))\n",
        "sub5 = int(input(\"Enter a number: \"))\n",
        "marks=sub1+sub2+sub3+sub4+sub5;\n",
        "if marks > 90:\n",
        "   print(\"A grade\")\n",
        "elif marks >= 80 and marks < 90:\n",
        "   print(\"B grade\")\n",
        "elif marks >= 70 and marks < 80:\n",
        "   print(\"C grade\")\n",
        "elif marks >= 60 and marks < 70:\n",
        "   print(\"D grade\")\n",
        "elif marks >= 50 and marks < 60:\n",
        "   print(\"E grade\")\n",
        "elif marks >= 40 and marks < 50:\n",
        "   print(\"F grade\")\n",
        "elif marks >= 30 and marks < 40:\n",
        "   print(\"G grade\")"
      ],
      "execution_count": null,
      "outputs": []
    },
    {
      "cell_type": "markdown",
      "metadata": {
        "id": "yWhgrpKMC_iH"
      },
      "source": [
        "[4].Write a program to find largest number out of three numbers entered by user."
      ]
    },
    {
      "cell_type": "code",
      "metadata": {
        "colab": {
          "base_uri": "https://localhost:8080/"
        },
        "id": "vmrunI7SDCM_",
        "outputId": "d4bb6666-5924-44c0-e7d2-59c7b019f02a"
      },
      "source": [
        "num1=int(input(\"enter 1st number\"))\n",
        "num2=int(input(\"enter 2nd number\"))\n",
        "num3=int(input(\"enter 3rd number\"))\n",
        "if (num1 > num2) and (num1 > num3):\n",
        "   largest = num1\n",
        "elif (num2 > num1) and (num2 > num3):\n",
        "   largest = num2\n",
        "else:\n",
        "   largest = num3\n",
        " \n",
        "print(\"The largest number is\",largest)"
      ],
      "execution_count": null,
      "outputs": [
        {
          "output_type": "stream",
          "name": "stdout",
          "text": [
            "enter 1st number1\n",
            "enter 2nd number5\n",
            "enter 3rd number4\n",
            "The largest number is 5\n"
          ]
        }
      ]
    },
    {
      "cell_type": "markdown",
      "metadata": {
        "id": "hV8Bb7jeWEK-"
      },
      "source": [
        "[6].For the below elements, print binary of modulo 64 (remainder) result.(Hint: Use function bin\n",
        "and operator %).\n",
        "\n",
        "1111,3333,1235,2378,1212,1456,2134,2345,1111,8231,2222,9999"
      ]
    },
    {
      "cell_type": "code",
      "metadata": {
        "id": "kd1uXKJNWFFq"
      },
      "source": [
        "n=input()\n",
        "num=n%64\n",
        "print(bin(int(num)))"
      ],
      "execution_count": null,
      "outputs": []
    },
    {
      "cell_type": "markdown",
      "metadata": {
        "id": "xcxv6AzbEcSQ"
      },
      "source": [
        "Write a program to check whether entered number is prime or not."
      ]
    },
    {
      "cell_type": "code",
      "metadata": {
        "colab": {
          "base_uri": "https://localhost:8080/"
        },
        "id": "xv6qrOCcEfs3",
        "outputId": "a046d7c5-3d7b-4f3d-834d-8233ed1dc96c"
      },
      "source": [
        "import math\n",
        "num = float(input(\"enter the number:\"))\n",
        "\n",
        "if num > 1:\n",
        "\n",
        "\tfor i in range(2, math.floor(math.sqrt(num))):\n",
        "\t\tif (num % i) == 0:\n",
        "\t\t\tprint(num, \"is not a prime number\")\n",
        "\t\t\tbreak\n",
        "\telse:\n",
        "\t\tprint(num, \"is a prime number\")\n",
        "\n",
        "else:\n",
        "\tprint(num, \"is not a prime number\")\n"
      ],
      "execution_count": null,
      "outputs": [
        {
          "output_type": "stream",
          "name": "stdout",
          "text": [
            "enter the number:4\n",
            "4.0 is a prime number\n"
          ]
        }
      ]
    },
    {
      "cell_type": "markdown",
      "metadata": {
        "id": "DCzb_I1BHQSS"
      },
      "source": [
        "Write a program to display armstrong numbers between 1 to n.(where value of n will be\n",
        "provided by user)."
      ]
    },
    {
      "cell_type": "code",
      "metadata": {
        "colab": {
          "base_uri": "https://localhost:8080/"
        },
        "id": "RH7GiAr1HR3m",
        "outputId": "1b20868a-c5ac-40bc-b94e-b0082a461206"
      },
      "source": [
        "num = int(input(\"Enter a number: \"))\n",
        "\n",
        "sum = 0\n",
        "\n",
        "temp = num\n",
        "while temp > 0:\n",
        "   digit = temp % 10\n",
        "   sum += digit ** 3\n",
        "   temp //= 10\n",
        "   \n",
        "if num == sum:\n",
        "   print(num,\"is an Armstrong number\")\n",
        "else:\n",
        "   print(num,\"is not an Armstrong number\")\n"
      ],
      "execution_count": null,
      "outputs": [
        {
          "output_type": "stream",
          "name": "stdout",
          "text": [
            "Enter a number: 153\n",
            "153 is an Armstrong number\n"
          ]
        }
      ]
    },
    {
      "cell_type": "markdown",
      "source": [
        "Exercise"
      ],
      "metadata": {
        "id": "CI0OQbjBPqKh"
      }
    },
    {
      "cell_type": "code",
      "source": [
        "import nltk\n",
        "import matplotlib.pyplot as plt\n",
        "import string\n",
        "import numpy as np\n",
        "import pandas as pd\n",
        "\n",
        "from sklearn import datasets\n",
        "from sklearn import metrics\n",
        "from sklearn.linear_model import LogisticRegression\n",
        "\n",
        "iris = pd.read_csv(\"/content/drive/MyDrive/Colab Notebooks/iris.csv\")\n",
        "print(iris)\n",
        "\n",
        "# # Answer - 1\n",
        "print('\\n')\n",
        "plt.figure(figsize=(10,5))\n",
        "plt.title(\"Scatter Plot between SepalLengthCm and SepalWidthCm\")\n",
        "plt.xlabel(\"Sepal Length (cm)\")\n",
        "plt.ylabel(\"Sepal Width (cm)\")\n",
        "plt.scatter(iris[\"sepallength\"], iris[\"sepalwidth\"])\n",
        "plt.show()\n",
        "\n",
        "# # Answer - 2\n",
        "print('\\n')\n",
        "plt.figure(figsize=(15,5))\n",
        "plt.xlabel(\"Sepal Length (cm)\")\n",
        "plt.ylabel(\"Count\")\n",
        "values, bins, bars = plt.hist(iris[\"sepallength\"])\n",
        "# plt.bar_label(bars, fontsize=15, color='navy')\n",
        "plt.margins(x=0.1,y=0.1)\n",
        "plt.show();\n",
        "\n",
        "# # Answer - 3\n",
        "print('\\n')\n",
        "plt.bar(iris[\"class\"], iris[\"class\"].count(), width=0.5, color='navy')\n",
        "plt.xlabel(\"Species\")\n",
        "plt.ylabel(\"Count\")\n",
        "plt.show()\n",
        "\n",
        "# # Answer - 4\n",
        "print('\\nNull Data:\\n')\n",
        "print(iris.isnull().sum())\n",
        "\n",
        "# Answer - 5\n",
        "print('\\n')\n",
        "# i)\n",
        "display(iris.loc[0:4, \"sepallength\"])\n",
        "\n",
        "print('\\n')\n",
        "# ii)\n",
        "display(iris.loc[5:])"
      ],
      "metadata": {
        "colab": {
          "base_uri": "https://localhost:8080/",
          "height": 1000
        },
        "id": "JptOW6YVDsa1",
        "outputId": "c4437c18-ef16-4492-e19b-90bcd8ed71d5"
      },
      "execution_count": null,
      "outputs": [
        {
          "output_type": "stream",
          "name": "stdout",
          "text": [
            "     sepallength  sepalwidth  petallength  petalwidth           class\n",
            "0            5.1         3.5          1.4         0.2     Iris-setosa\n",
            "1            4.9         3.0          1.4         0.2     Iris-setosa\n",
            "2            4.7         3.2          1.3         0.2     Iris-setosa\n",
            "3            4.6         3.1          1.5         0.2     Iris-setosa\n",
            "4            5.0         3.6          1.4         0.2     Iris-setosa\n",
            "..           ...         ...          ...         ...             ...\n",
            "145          6.7         3.0          5.2         2.3  Iris-virginica\n",
            "146          6.3         2.5          5.0         1.9  Iris-virginica\n",
            "147          6.5         3.0          5.2         2.0  Iris-virginica\n",
            "148          6.2         3.4          5.4         2.3  Iris-virginica\n",
            "149          5.9         3.0          5.1         1.8  Iris-virginica\n",
            "\n",
            "[150 rows x 5 columns]\n",
            "\n",
            "\n"
          ]
        },
        {
          "output_type": "display_data",
          "data": {
            "text/plain": [
              "<Figure size 720x360 with 1 Axes>"
            ],
            "image/png": "[encoded data removed]"
          },
          "metadata": {
            "needs_background": "light"
          }
        },
        {
          "output_type": "stream",
          "name": "stdout",
          "text": [
            "\n",
            "\n"
          ]
        },
        {
          "output_type": "display_data",
          "data": {
            "text/plain": [
              "<Figure size 1080x360 with 1 Axes>"
            ],
            "image/png": "[encoded data removed]"
          },
          "metadata": {
            "needs_background": "light"
          }
        },
        {
          "output_type": "stream",
          "name": "stdout",
          "text": [
            "\n",
            "\n"
          ]
        },
        {
          "output_type": "display_data",
          "data": {
            "text/plain": [
              "<Figure size 432x288 with 1 Axes>"
            ],
            "image/png": "[encoded data removed]"
          },
          "metadata": {
            "needs_background": "light"
          }
        },
        {
          "output_type": "stream",
          "name": "stdout",
          "text": [
            "\n",
            "Null Data:\n",
            "\n",
            "sepallength    0\n",
            "sepalwidth     0\n",
            "petallength    0\n",
            "petalwidth     0\n",
            "class          0\n",
            "dtype: int64\n",
            "\n",
            "\n"
          ]
        },
        {
          "output_type": "display_data",
          "data": {
            "text/plain": [
              "0    5.1\n",
              "1    4.9\n",
              "2    4.7\n",
              "3    4.6\n",
              "4    5.0\n",
              "Name: sepallength, dtype: float64"
            ]
          },
          "metadata": {}
        },
        {
          "output_type": "stream",
          "name": "stdout",
          "text": [
            "\n",
            "\n"
          ]
        },
        {
          "output_type": "display_data",
          "data": {
            "text/plain": [
              "     sepallength  sepalwidth  petallength  petalwidth           class\n",
              "5            5.4         3.9          1.7         0.4     Iris-setosa\n",
              "6            4.6         3.4          1.4         0.3     Iris-setosa\n",
              "7            5.0         3.4          1.5         0.2     Iris-setosa\n",
              "8            4.4         2.9          1.4         0.2     Iris-setosa\n",
              "9            4.9         3.1          1.5         0.1     Iris-setosa\n",
              "..           ...         ...          ...         ...             ...\n",
              "145          6.7         3.0          5.2         2.3  Iris-virginica\n",
              "146          6.3         2.5          5.0         1.9  Iris-virginica\n",
              "147          6.5         3.0          5.2         2.0  Iris-virginica\n",
              "148          6.2         3.4          5.4         2.3  Iris-virginica\n",
              "149          5.9         3.0          5.1         1.8  Iris-virginica\n",
              "\n",
              "[145 rows x 5 columns]"
            ],
            "text/html": [
              "\n",
              "  <div id=\"df-a45692af-2cec-4cad-9d24-097fce14eb1b\">\n",
              "    <div class=\"colab-df-container\">\n",
              "      <div>\n",
              "<style scoped>\n",
              "    .dataframe tbody tr th:only-of-type {\n",
              "        vertical-align: middle;\n",
              "    }\n",
              "\n",
              "    .dataframe tbody tr th {\n",
              "        vertical-align: top;\n",
              "    }\n",
              "\n",
              "    .dataframe thead th {\n",
              "        text-align: right;\n",
              "    }\n",
              "</style>\n",
              "<table border=\"1\" class=\"dataframe\">\n",
              "  <thead>\n",
              "    <tr style=\"text-align: right;\">\n",
              "      <th></th>\n",
              "      <th>sepallength</th>\n",
              "      <th>sepalwidth</th>\n",
              "      <th>petallength</th>\n",
              "      <th>petalwidth</th>\n",
              "      <th>class</th>\n",
              "    </tr>\n",
              "  </thead>\n",
              "  <tbody>\n",
              "    <tr>\n",
              "      <th>5</th>\n",
              "      <td>5.4</td>\n",
              "      <td>3.9</td>\n",
              "      <td>1.7</td>\n",
              "      <td>0.4</td>\n",
              "      <td>Iris-setosa</td>\n",
              "    </tr>\n",
              "    <tr>\n",
              "      <th>6</th>\n",
              "      <td>4.6</td>\n",
              "      <td>3.4</td>\n",
              "      <td>1.4</td>\n",
              "      <td>0.3</td>\n",
              "      <td>Iris-setosa</td>\n",
              "    </tr>\n",
              "    <tr>\n",
              "      <th>7</th>\n",
              "      <td>5.0</td>\n",
              "      <td>3.4</td>\n",
              "      <td>1.5</td>\n",
              "      <td>0.2</td>\n",
              "      <td>Iris-setosa</td>\n",
              "    </tr>\n",
              "    <tr>\n",
              "      <th>8</th>\n",
              "      <td>4.4</td>\n",
              "      <td>2.9</td>\n",
              "      <td>1.4</td>\n",
              "      <td>0.2</td>\n",
              "      <td>Iris-setosa</td>\n",
              "    </tr>\n",
              "    <tr>\n",
              "      <th>9</th>\n",
              "      <td>4.9</td>\n",
              "      <td>3.1</td>\n",
              "      <td>1.5</td>\n",
              "      <td>0.1</td>\n",
              "      <td>Iris-setosa</td>\n",
              "    </tr>\n",
              "    <tr>\n",
              "      <th>...</th>\n",
              "      <td>...</td>\n",
              "      <td>...</td>\n",
              "      <td>...</td>\n",
              "      <td>...</td>\n",
              "      <td>...</td>\n",
              "    </tr>\n",
              "    <tr>\n",
              "      <th>145</th>\n",
              "      <td>6.7</td>\n",
              "      <td>3.0</td>\n",
              "      <td>5.2</td>\n",
              "      <td>2.3</td>\n",
              "      <td>Iris-virginica</td>\n",
              "    </tr>\n",
              "    <tr>\n",
              "      <th>146</th>\n",
              "      <td>6.3</td>\n",
              "      <td>2.5</td>\n",
              "      <td>5.0</td>\n",
              "      <td>1.9</td>\n",
              "      <td>Iris-virginica</td>\n",
              "    </tr>\n",
              "    <tr>\n",
              "      <th>147</th>\n",
              "      <td>6.5</td>\n",
              "      <td>3.0</td>\n",
              "      <td>5.2</td>\n",
              "      <td>2.0</td>\n",
              "      <td>Iris-virginica</td>\n",
              "    </tr>\n",
              "    <tr>\n",
              "      <th>148</th>\n",
              "      <td>6.2</td>\n",
              "      <td>3.4</td>\n",
              "      <td>5.4</td>\n",
              "      <td>2.3</td>\n",
              "      <td>Iris-virginica</td>\n",
              "    </tr>\n",
              "    <tr>\n",
              "      <th>149</th>\n",
              "      <td>5.9</td>\n",
              "      <td>3.0</td>\n",
              "      <td>5.1</td>\n",
              "      <td>1.8</td>\n",
              "      <td>Iris-virginica</td>\n",
              "    </tr>\n",
              "  </tbody>\n",
              "</table>\n",
              "<p>145 rows × 5 columns</p>\n",
              "</div>\n",
              "      <button class=\"colab-df-convert\" onclick=\"convertToInteractive('df-a45692af-2cec-4cad-9d24-097fce14eb1b')\"\n",
              "              title=\"Convert this dataframe to an interactive table.\"\n",
              "              style=\"display:none;\">\n",
              "        \n",
              "  <svg xmlns=\"http://www.w3.org/2000/svg\" height=\"24px\"viewBox=\"0 0 24 24\"\n",
              "       width=\"24px\">\n",
              "    <path d=\"M0 0h24v24H0V0z\" fill=\"none\"/>\n",
              "    <path d=\"M18.56 5.44l.94 2.06.94-2.06 2.06-.94-2.06-.94-.94-2.06-.94 2.06-2.06.94zm-11 1L8.5 8.5l.94-2.06 2.06-.94-2.06-.94L8.5 2.5l-.94 2.06-2.06.94zm10 10l.94 2.06.94-2.06 2.06-.94-2.06-.94-.94-2.06-.94 2.06-2.06.94z\"/><path d=\"M17.41 7.96l-1.37-1.37c-.4-.4-.92-.59-1.43-.59-.52 0-1.04.2-1.43.59L10.3 9.45l-7.72 7.72c-.78.78-.78 2.05 0 2.83L4 21.41c.39.39.9.59 1.41.59.51 0 1.02-.2 1.41-.59l7.78-7.78 2.81-2.81c.8-.78.8-2.07 0-2.86zM5.41 20L4 18.59l7.72-7.72 1.47 1.35L5.41 20z\"/>\n",
              "  </svg>\n",
              "      </button>\n",
              "      \n",
              "  <style>\n",
              "    .colab-df-container {\n",
              "      display:flex;\n",
              "      flex-wrap:wrap;\n",
              "      gap: 12px;\n",
              "    }\n",
              "\n",
              "    .colab-df-convert {\n",
              "      background-color: #E8F0FE;\n",
              "      border: none;\n",
              "      border-radius: 50%;\n",
              "      cursor: pointer;\n",
              "      display: none;\n",
              "      fill: #1967D2;\n",
              "      height: 32px;\n",
              "      padding: 0 0 0 0;\n",
              "      width: 32px;\n",
              "    }\n",
              "\n",
              "    .colab-df-convert:hover {\n",
              "      background-color: #E2EBFA;\n",
              "      box-shadow: 0px 1px 2px rgba(60, 64, 67, 0.3), 0px 1px 3px 1px rgba(60, 64, 67, 0.15);\n",
              "      fill: #174EA6;\n",
              "    }\n",
              "\n",
              "    [theme=dark] .colab-df-convert {\n",
              "      background-color: #3B4455;\n",
              "      fill: #D2E3FC;\n",
              "    }\n",
              "\n",
              "    [theme=dark] .colab-df-convert:hover {\n",
              "      background-color: #434B5C;\n",
              "      box-shadow: 0px 1px 3px 1px rgba(0, 0, 0, 0.15);\n",
              "      filter: drop-shadow(0px 1px 2px rgba(0, 0, 0, 0.3));\n",
              "      fill: #FFFFFF;\n",
              "    }\n",
              "  </style>\n",
              "\n",
              "      <script>\n",
              "        const buttonEl =\n",
              "          document.querySelector('#df-a45692af-2cec-4cad-9d24-097fce14eb1b button.colab-df-convert');\n",
              "        buttonEl.style.display =\n",
              "          google.colab.kernel.accessAllowed ? 'block' : 'none';\n",
              "\n",
              "        async function convertToInteractive(key) {\n",
              "          const element = document.querySelector('#df-a45692af-2cec-4cad-9d24-097fce14eb1b');\n",
              "          const dataTable =\n",
              "            await google.colab.kernel.invokeFunction('convertToInteractive',\n",
              "                                                     [key], {});\n",
              "          if (!dataTable) return;\n",
              "\n",
              "          const docLinkHtml = 'Like what you see? Visit the ' +\n",
              "            '<a target=\"_blank\" href=https://colab.research.google.com/notebooks/data_table.ipynb>data table notebook</a>'\n",
              "            + ' to learn more about interactive tables.';\n",
              "          element.innerHTML = '';\n",
              "          dataTable['output_type'] = 'display_data';\n",
              "          await google.colab.output.renderOutput(dataTable, element);\n",
              "          const docLink = document.createElement('div');\n",
              "          docLink.innerHTML = docLinkHtml;\n",
              "          element.appendChild(docLink);\n",
              "        }\n",
              "      </script>\n",
              "    </div>\n",
              "  </div>\n",
              "  "
            ]
          },
          "metadata": {}
        }
      ]
    }
  ]
}